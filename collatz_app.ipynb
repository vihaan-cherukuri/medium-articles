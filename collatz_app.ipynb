{
 "cells": [
  {
   "cell_type": "code",
   "execution_count": null,
   "id": "562ec88e-e88b-402f-845d-f3863d68f3f6",
   "metadata": {},
   "outputs": [],
   "source": [
    "import numpy as np\n",
    "import ipywidgets as widgets\n",
    "import plotly.graph_objects as go"
   ]
  },
  {
   "cell_type": "code",
   "execution_count": null,
   "id": "43613d4b-d4f3-4514-ab22-0c5f5c9db63e",
   "metadata": {},
   "outputs": [],
   "source": [
    "def collatz_conjecture_steps(n: int):\n",
    "    steps = [n]\n",
    "    while n != 1:\n",
    "        if n % 2 == 0:\n",
    "            n = n // 2\n",
    "        else:\n",
    "            n = 3 * n + 1\n",
    "        \n",
    "        steps.append(n)\n",
    "    return np.array(steps)"
   ]
  },
  {
   "cell_type": "code",
   "execution_count": null,
   "id": "3e0039c9-5129-4904-b0b8-ee1173e16a57",
   "metadata": {},
   "outputs": [],
   "source": [
    "n_slider = widgets.IntSlider(\n",
    "    description=\"$n$:\",\n",
    "    value=50,\n",
    "    min=10,\n",
    "    max=100,\n",
    "    continuous_update=False\n",
    ")\n",
    "\n",
    "steps = collatz_conjecture_steps(n_slider.value)\n",
    "line = go.Scatter(\n",
    "    y=steps, \n",
    "    x=np.arange(1, len(steps) + 1),\n",
    "    mode=\"lines+markers\")\n",
    "\n",
    "fig = go.FigureWidget(\n",
    "    data=[line],\n",
    "    layout=go.Layout(\n",
    "        title=f\"Collatz Conjecture Steps for n = {n_slider.value}\",\n",
    "        xaxis_title=\"Steps\",\n",
    "        yaxis_title=\"Value\",\n",
    "        width=800,\n",
    "        height=600,\n",
    "        template=\"plotly_dark\")\n",
    ")\n",
    "app = widgets.VBox([n_slider, fig])\n"
   ]
  },
  {
   "cell_type": "code",
   "execution_count": null,
   "id": "1dd1e219-eedf-4ca4-b0f4-67bf0e1041d5",
   "metadata": {},
   "outputs": [],
   "source": [
    "def update(*args):\n",
    "    n = n_slider.value\n",
    "    steps = collatz_conjecture_steps(n)\n",
    "    fig.data[0].x = np.arange(1, len(steps) + 1)\n",
    "    fig.data[0].y = steps\n",
    "    fig.update_layout(\n",
    "        title=f\"Collatz Conjecture Steps for n = {n_slider.value}\"\n",
    "    )\n",
    "\n",
    "n_slider.observe(update, \"value\")\n",
    "\n",
    "app"
   ]
  }
 ],
 "metadata": {
  "kernelspec": {
   "display_name": "Python 3 (ipykernel)",
   "language": "python",
   "name": "python3"
  },
  "language_info": {
   "codemirror_mode": {
    "name": "ipython",
    "version": 3
   },
   "file_extension": ".py",
   "mimetype": "text/x-python",
   "name": "python",
   "nbconvert_exporter": "python",
   "pygments_lexer": "ipython3",
   "version": "3.10.16"
  }
 },
 "nbformat": 4,
 "nbformat_minor": 5
}
